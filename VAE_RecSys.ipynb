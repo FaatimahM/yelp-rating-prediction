{
  "nbformat": 4,
  "nbformat_minor": 0,
  "metadata": {
    "colab": {
      "name": "VAE_RecSys.ipynb",
      "provenance": [],
      "collapsed_sections": [],
      "include_colab_link": true
    },
    "kernelspec": {
      "name": "python3",
      "display_name": "Python 3"
    },
    "accelerator": "GPU"
  },
  "cells": [
    {
      "cell_type": "markdown",
      "metadata": {
        "id": "view-in-github",
        "colab_type": "text"
      },
      "source": [
        "<a href=\"https://colab.research.google.com/github/jiangzl2016/yelp-rating-prediction/blob/master/VAE_RecSys.ipynb\" target=\"_parent\"><img src=\"https://colab.research.google.com/assets/colab-badge.svg\" alt=\"Open In Colab\"/></a>"
      ]
    },
    {
      "cell_type": "code",
      "metadata": {
        "id": "NW95ttnU-3ed",
        "colab_type": "code",
        "outputId": "af4d94d5-7703-4380-b8be-60ec855d6815",
        "colab": {
          "base_uri": "https://localhost:8080/",
          "height": 34
        }
      },
      "source": [
        "from google.colab import drive\n",
        "drive.mount('/content/drive')"
      ],
      "execution_count": 0,
      "outputs": [
        {
          "output_type": "stream",
          "text": [
            "Drive already mounted at /content/drive; to attempt to forcibly remount, call drive.mount(\"/content/drive\", force_remount=True).\n"
          ],
          "name": "stdout"
        }
      ]
    },
    {
      "cell_type": "code",
      "metadata": {
        "id": "OSPql3L9d3qx",
        "colab_type": "code",
        "outputId": "21a594c5-aa4c-493d-cd82-126043afcb25",
        "colab": {
          "base_uri": "https://localhost:8080/",
          "height": 632
        }
      },
      "source": [
        "!pip install -U deepctr[gpu]"
      ],
      "execution_count": 0,
      "outputs": [
        {
          "output_type": "stream",
          "text": [
            "Requirement already up-to-date: deepctr[gpu] in /usr/local/lib/python3.6/dist-packages (0.7.0)\n",
            "Requirement already satisfied, skipping upgrade: h5py in /usr/local/lib/python3.6/dist-packages (from deepctr[gpu]) (2.8.0)\n",
            "Requirement already satisfied, skipping upgrade: requests in /usr/local/lib/python3.6/dist-packages (from deepctr[gpu]) (2.21.0)\n",
            "Requirement already satisfied, skipping upgrade: tensorflow-gpu!=1.7.*,!=1.8.*,>=1.4.0; extra == \"gpu\" in /usr/local/lib/python3.6/dist-packages (from deepctr[gpu]) (2.0.0)\n",
            "Requirement already satisfied, skipping upgrade: numpy>=1.7 in /usr/local/lib/python3.6/dist-packages (from h5py->deepctr[gpu]) (1.17.4)\n",
            "Requirement already satisfied, skipping upgrade: six in /usr/local/lib/python3.6/dist-packages (from h5py->deepctr[gpu]) (1.12.0)\n",
            "Requirement already satisfied, skipping upgrade: urllib3<1.25,>=1.21.1 in /usr/local/lib/python3.6/dist-packages (from requests->deepctr[gpu]) (1.24.3)\n",
            "Requirement already satisfied, skipping upgrade: idna<2.9,>=2.5 in /usr/local/lib/python3.6/dist-packages (from requests->deepctr[gpu]) (2.8)\n",
            "Requirement already satisfied, skipping upgrade: certifi>=2017.4.17 in /usr/local/lib/python3.6/dist-packages (from requests->deepctr[gpu]) (2019.11.28)\n",
            "Requirement already satisfied, skipping upgrade: chardet<3.1.0,>=3.0.2 in /usr/local/lib/python3.6/dist-packages (from requests->deepctr[gpu]) (3.0.4)\n",
            "Requirement already satisfied, skipping upgrade: wheel>=0.26 in /usr/local/lib/python3.6/dist-packages (from tensorflow-gpu!=1.7.*,!=1.8.*,>=1.4.0; extra == \"gpu\"->deepctr[gpu]) (0.33.6)\n",
            "Requirement already satisfied, skipping upgrade: tensorflow-estimator<2.1.0,>=2.0.0 in /usr/local/lib/python3.6/dist-packages (from tensorflow-gpu!=1.7.*,!=1.8.*,>=1.4.0; extra == \"gpu\"->deepctr[gpu]) (2.0.1)\n",
            "Requirement already satisfied, skipping upgrade: gast==0.2.2 in /usr/local/lib/python3.6/dist-packages (from tensorflow-gpu!=1.7.*,!=1.8.*,>=1.4.0; extra == \"gpu\"->deepctr[gpu]) (0.2.2)\n",
            "Requirement already satisfied, skipping upgrade: astor>=0.6.0 in /usr/local/lib/python3.6/dist-packages (from tensorflow-gpu!=1.7.*,!=1.8.*,>=1.4.0; extra == \"gpu\"->deepctr[gpu]) (0.8.1)\n",
            "Requirement already satisfied, skipping upgrade: termcolor>=1.1.0 in /usr/local/lib/python3.6/dist-packages (from tensorflow-gpu!=1.7.*,!=1.8.*,>=1.4.0; extra == \"gpu\"->deepctr[gpu]) (1.1.0)\n",
            "Requirement already satisfied, skipping upgrade: absl-py>=0.7.0 in /usr/local/lib/python3.6/dist-packages (from tensorflow-gpu!=1.7.*,!=1.8.*,>=1.4.0; extra == \"gpu\"->deepctr[gpu]) (0.8.1)\n",
            "Requirement already satisfied, skipping upgrade: wrapt>=1.11.1 in /usr/local/lib/python3.6/dist-packages (from tensorflow-gpu!=1.7.*,!=1.8.*,>=1.4.0; extra == \"gpu\"->deepctr[gpu]) (1.11.2)\n",
            "Requirement already satisfied, skipping upgrade: opt-einsum>=2.3.2 in /usr/local/lib/python3.6/dist-packages (from tensorflow-gpu!=1.7.*,!=1.8.*,>=1.4.0; extra == \"gpu\"->deepctr[gpu]) (3.1.0)\n",
            "Requirement already satisfied, skipping upgrade: keras-preprocessing>=1.0.5 in /usr/local/lib/python3.6/dist-packages (from tensorflow-gpu!=1.7.*,!=1.8.*,>=1.4.0; extra == \"gpu\"->deepctr[gpu]) (1.1.0)\n",
            "Requirement already satisfied, skipping upgrade: protobuf>=3.6.1 in /usr/local/lib/python3.6/dist-packages (from tensorflow-gpu!=1.7.*,!=1.8.*,>=1.4.0; extra == \"gpu\"->deepctr[gpu]) (3.10.0)\n",
            "Requirement already satisfied, skipping upgrade: tensorboard<2.1.0,>=2.0.0 in /usr/local/lib/python3.6/dist-packages (from tensorflow-gpu!=1.7.*,!=1.8.*,>=1.4.0; extra == \"gpu\"->deepctr[gpu]) (2.0.2)\n",
            "Requirement already satisfied, skipping upgrade: google-pasta>=0.1.6 in /usr/local/lib/python3.6/dist-packages (from tensorflow-gpu!=1.7.*,!=1.8.*,>=1.4.0; extra == \"gpu\"->deepctr[gpu]) (0.1.8)\n",
            "Requirement already satisfied, skipping upgrade: grpcio>=1.8.6 in /usr/local/lib/python3.6/dist-packages (from tensorflow-gpu!=1.7.*,!=1.8.*,>=1.4.0; extra == \"gpu\"->deepctr[gpu]) (1.15.0)\n",
            "Requirement already satisfied, skipping upgrade: keras-applications>=1.0.8 in /usr/local/lib/python3.6/dist-packages (from tensorflow-gpu!=1.7.*,!=1.8.*,>=1.4.0; extra == \"gpu\"->deepctr[gpu]) (1.0.8)\n",
            "Requirement already satisfied, skipping upgrade: setuptools in /usr/local/lib/python3.6/dist-packages (from protobuf>=3.6.1->tensorflow-gpu!=1.7.*,!=1.8.*,>=1.4.0; extra == \"gpu\"->deepctr[gpu]) (42.0.2)\n",
            "Requirement already satisfied, skipping upgrade: google-auth-oauthlib<0.5,>=0.4.1 in /usr/local/lib/python3.6/dist-packages (from tensorboard<2.1.0,>=2.0.0->tensorflow-gpu!=1.7.*,!=1.8.*,>=1.4.0; extra == \"gpu\"->deepctr[gpu]) (0.4.1)\n",
            "Requirement already satisfied, skipping upgrade: google-auth<2,>=1.6.3 in /usr/local/lib/python3.6/dist-packages (from tensorboard<2.1.0,>=2.0.0->tensorflow-gpu!=1.7.*,!=1.8.*,>=1.4.0; extra == \"gpu\"->deepctr[gpu]) (1.8.2)\n",
            "Requirement already satisfied, skipping upgrade: markdown>=2.6.8 in /usr/local/lib/python3.6/dist-packages (from tensorboard<2.1.0,>=2.0.0->tensorflow-gpu!=1.7.*,!=1.8.*,>=1.4.0; extra == \"gpu\"->deepctr[gpu]) (3.1.1)\n",
            "Requirement already satisfied, skipping upgrade: werkzeug>=0.11.15 in /usr/local/lib/python3.6/dist-packages (from tensorboard<2.1.0,>=2.0.0->tensorflow-gpu!=1.7.*,!=1.8.*,>=1.4.0; extra == \"gpu\"->deepctr[gpu]) (0.16.0)\n",
            "Requirement already satisfied, skipping upgrade: requests-oauthlib>=0.7.0 in /usr/local/lib/python3.6/dist-packages (from google-auth-oauthlib<0.5,>=0.4.1->tensorboard<2.1.0,>=2.0.0->tensorflow-gpu!=1.7.*,!=1.8.*,>=1.4.0; extra == \"gpu\"->deepctr[gpu]) (1.3.0)\n",
            "Requirement already satisfied, skipping upgrade: pyasn1-modules>=0.2.1 in /usr/local/lib/python3.6/dist-packages (from google-auth<2,>=1.6.3->tensorboard<2.1.0,>=2.0.0->tensorflow-gpu!=1.7.*,!=1.8.*,>=1.4.0; extra == \"gpu\"->deepctr[gpu]) (0.2.7)\n",
            "Requirement already satisfied, skipping upgrade: rsa<4.1,>=3.1.4 in /usr/local/lib/python3.6/dist-packages (from google-auth<2,>=1.6.3->tensorboard<2.1.0,>=2.0.0->tensorflow-gpu!=1.7.*,!=1.8.*,>=1.4.0; extra == \"gpu\"->deepctr[gpu]) (4.0)\n",
            "Requirement already satisfied, skipping upgrade: cachetools<3.2,>=2.0.0 in /usr/local/lib/python3.6/dist-packages (from google-auth<2,>=1.6.3->tensorboard<2.1.0,>=2.0.0->tensorflow-gpu!=1.7.*,!=1.8.*,>=1.4.0; extra == \"gpu\"->deepctr[gpu]) (3.1.1)\n",
            "Requirement already satisfied, skipping upgrade: oauthlib>=3.0.0 in /usr/local/lib/python3.6/dist-packages (from requests-oauthlib>=0.7.0->google-auth-oauthlib<0.5,>=0.4.1->tensorboard<2.1.0,>=2.0.0->tensorflow-gpu!=1.7.*,!=1.8.*,>=1.4.0; extra == \"gpu\"->deepctr[gpu]) (3.1.0)\n",
            "Requirement already satisfied, skipping upgrade: pyasn1<0.5.0,>=0.4.6 in /usr/local/lib/python3.6/dist-packages (from pyasn1-modules>=0.2.1->google-auth<2,>=1.6.3->tensorboard<2.1.0,>=2.0.0->tensorflow-gpu!=1.7.*,!=1.8.*,>=1.4.0; extra == \"gpu\"->deepctr[gpu]) (0.4.8)\n"
          ],
          "name": "stdout"
        }
      ]
    },
    {
      "cell_type": "code",
      "metadata": {
        "id": "pICvjmggcnoI",
        "colab_type": "code",
        "colab": {}
      },
      "source": [
        "## data handling\n",
        "# setup libraries and env\n",
        "import os\n",
        "import shutil\n",
        "import sys\n",
        "\n",
        "import numpy as np\n",
        "from scipy import sparse\n",
        "\n",
        "import matplotlib.pyplot as plt\n",
        "%matplotlib inline\n",
        "\n",
        "import seaborn as sn\n",
        "sn.set()\n",
        "\n",
        "import pandas as pd\n",
        "from sklearn.metrics import mean_squared_error\n",
        "from sklearn.model_selection import train_test_split\n",
        "from sklearn.preprocessing import LabelEncoder\n",
        "\n",
        "from deepctr.models import DeepFM, CCPM, FNN, PNN, WDL, MLR, NFM, AFM, DCN, DIN, DIEN, DSIN, xDeepFM, AutoInt, NFFM, FGCNN, FiBiNET\n",
        "from deepctr.inputs import SparseFeat,get_feature_names\n",
        "\n",
        "\n",
        "training =  pd.read_csv('/content/drive/My Drive/final_project_datasets/ratings_sample_train.csv', index_col = 0)\n",
        "validation = pd.read_csv('/content/drive/My Drive/final_project_datasets/ratings_sample_cv.csv', index_col = 0)\n",
        "test = pd.read_csv('/content/drive/My Drive/final_project_datasets/ratings_sample_holdout.csv', index_col = 0)"
      ],
      "execution_count": 0,
      "outputs": []
    },
    {
      "cell_type": "code",
      "metadata": {
        "id": "Yk_DkOyO8A3V",
        "colab_type": "code",
        "outputId": "7a42628a-ff41-4a59-98f5-d275ecbe0b9f",
        "colab": {
          "base_uri": "https://localhost:8080/",
          "height": 204
        }
      },
      "source": [
        "# convert object to datetime\n",
        "training.date = pd.to_datetime(training.date)\n",
        "validation.date = pd.to_datetime(validation.date)\n",
        "test.date = pd.to_datetime(test.date)\n",
        "\n",
        "# find hour from datetime\n",
        "training['hour'] = training.date.dt.hour\n",
        "validation['hour'] = validation.date.dt.hour\n",
        "test['hour'] = test.date.dt.hour\n",
        "\n",
        "test.head()"
      ],
      "execution_count": 0,
      "outputs": [
        {
          "output_type": "execute_result",
          "data": {
            "text/html": [
              "<div>\n",
              "<style scoped>\n",
              "    .dataframe tbody tr th:only-of-type {\n",
              "        vertical-align: middle;\n",
              "    }\n",
              "\n",
              "    .dataframe tbody tr th {\n",
              "        vertical-align: top;\n",
              "    }\n",
              "\n",
              "    .dataframe thead th {\n",
              "        text-align: right;\n",
              "    }\n",
              "</style>\n",
              "<table border=\"1\" class=\"dataframe\">\n",
              "  <thead>\n",
              "    <tr style=\"text-align: right;\">\n",
              "      <th></th>\n",
              "      <th>user_id</th>\n",
              "      <th>business_id</th>\n",
              "      <th>rating</th>\n",
              "      <th>date</th>\n",
              "      <th>text</th>\n",
              "      <th>hour</th>\n",
              "    </tr>\n",
              "  </thead>\n",
              "  <tbody>\n",
              "    <tr>\n",
              "      <th>1</th>\n",
              "      <td>n6-Gk65cPZL6Uz8qRm3NYw</td>\n",
              "      <td>hk5wpV-_pi5jmDDVPeG8DA</td>\n",
              "      <td>5.0</td>\n",
              "      <td>2018-09-14 18:50:19</td>\n",
              "      <td>I highly recommend Arizona Pet Mortuary, David...</td>\n",
              "      <td>18</td>\n",
              "    </tr>\n",
              "    <tr>\n",
              "      <th>403</th>\n",
              "      <td>FIk4lQQu1eTe2EpzQ4xhBA</td>\n",
              "      <td>jLxeBgWhLRbII2ACkgH1Sg</td>\n",
              "      <td>4.0</td>\n",
              "      <td>2018-09-30 18:00:41</td>\n",
              "      <td>First time for me to come inside at least! Hav...</td>\n",
              "      <td>18</td>\n",
              "    </tr>\n",
              "    <tr>\n",
              "      <th>737</th>\n",
              "      <td>_N7Ndn29bpll_961oPeEfw</td>\n",
              "      <td>O-b5osM0NO4f31dp6_DatQ</td>\n",
              "      <td>3.0</td>\n",
              "      <td>2014-08-01 01:55:23</td>\n",
              "      <td>I can only comment on their macarons, which I'...</td>\n",
              "      <td>1</td>\n",
              "    </tr>\n",
              "    <tr>\n",
              "      <th>797</th>\n",
              "      <td>C_hUvw2z0R-Rv0yZb6QCZA</td>\n",
              "      <td>O19VReN1I2TBrJsbXUAIJg</td>\n",
              "      <td>5.0</td>\n",
              "      <td>2018-10-18 05:39:38</td>\n",
              "      <td>Very good. Probably one of the best restaurant...</td>\n",
              "      <td>5</td>\n",
              "    </tr>\n",
              "    <tr>\n",
              "      <th>851</th>\n",
              "      <td>DbccYu3OppWKl21OanZnTg</td>\n",
              "      <td>dTqKpbaiUgEd4rPSzKuWqQ</td>\n",
              "      <td>5.0</td>\n",
              "      <td>2018-10-07 01:33:10</td>\n",
              "      <td>As someone with a big sweet tooth, this review...</td>\n",
              "      <td>1</td>\n",
              "    </tr>\n",
              "  </tbody>\n",
              "</table>\n",
              "</div>"
            ],
            "text/plain": [
              "                    user_id  ... hour\n",
              "1    n6-Gk65cPZL6Uz8qRm3NYw  ...   18\n",
              "403  FIk4lQQu1eTe2EpzQ4xhBA  ...   18\n",
              "737  _N7Ndn29bpll_961oPeEfw  ...    1\n",
              "797  C_hUvw2z0R-Rv0yZb6QCZA  ...    5\n",
              "851  DbccYu3OppWKl21OanZnTg  ...    1\n",
              "\n",
              "[5 rows x 6 columns]"
            ]
          },
          "metadata": {
            "tags": []
          },
          "execution_count": 4
        }
      ]
    },
    {
      "cell_type": "code",
      "metadata": {
        "id": "v0viHy3k8EFt",
        "colab_type": "code",
        "outputId": "88e0985b-a4fa-418a-ce4e-5c7dc9dabcb5",
        "colab": {
          "base_uri": "https://localhost:8080/",
          "height": 34
        }
      },
      "source": [
        "len(set(test.user_id) - set(training.user_id))"
      ],
      "execution_count": 0,
      "outputs": [
        {
          "output_type": "execute_result",
          "data": {
            "text/plain": [
              "0"
            ]
          },
          "metadata": {
            "tags": []
          },
          "execution_count": 5
        }
      ]
    },
    {
      "cell_type": "code",
      "metadata": {
        "id": "BetkE-yUgym-",
        "colab_type": "code",
        "colab": {}
      },
      "source": [
        "test = test.loc[test.business_id.isin(training.business_id)]\n",
        "validation = validation.loc[validation.business_id.isin(training.business_id)]"
      ],
      "execution_count": 0,
      "outputs": []
    },
    {
      "cell_type": "code",
      "metadata": {
        "id": "1vkFO-bV4rJb",
        "colab_type": "code",
        "colab": {}
      },
      "source": [
        "# map each user_id, business_id to an index\n",
        "user_mapping = {}\n",
        "for n,i in enumerate(training.user_id.unique()):\n",
        "  user_mapping[i] = n\n",
        "\n",
        "business_mapping = {}\n",
        "for n,i in enumerate(training.business_id.unique()):\n",
        "  business_mapping[i] = n"
      ],
      "execution_count": 0,
      "outputs": []
    },
    {
      "cell_type": "code",
      "metadata": {
        "id": "vwqf8DZ66Z8r",
        "colab_type": "code",
        "colab": {}
      },
      "source": [
        "# for training\n",
        "training['user_id'] = training['user_id'].map(user_mapping)\n",
        "training['business_id'] = training['business_id'].map(business_mapping)\n",
        "# for validation\n",
        "validation['user_id'] = validation['user_id'].map(user_mapping)\n",
        "validation['business_id'] = validation['business_id'].map(business_mapping)\n",
        "# for test\n",
        "test['user_id'] = test['user_id'].map(user_mapping)\n",
        "test['business_id'] = test['business_id'].map(business_mapping)"
      ],
      "execution_count": 0,
      "outputs": []
    },
    {
      "cell_type": "code",
      "metadata": {
        "id": "ZCTJonRY6j7s",
        "colab_type": "code",
        "outputId": "7d5adae1-a3d9-4876-f008-fe1c6bf4ae7d",
        "colab": {
          "base_uri": "https://localhost:8080/",
          "height": 204
        }
      },
      "source": [
        "test.head()"
      ],
      "execution_count": 0,
      "outputs": [
        {
          "output_type": "execute_result",
          "data": {
            "text/html": [
              "<div>\n",
              "<style scoped>\n",
              "    .dataframe tbody tr th:only-of-type {\n",
              "        vertical-align: middle;\n",
              "    }\n",
              "\n",
              "    .dataframe tbody tr th {\n",
              "        vertical-align: top;\n",
              "    }\n",
              "\n",
              "    .dataframe thead th {\n",
              "        text-align: right;\n",
              "    }\n",
              "</style>\n",
              "<table border=\"1\" class=\"dataframe\">\n",
              "  <thead>\n",
              "    <tr style=\"text-align: right;\">\n",
              "      <th></th>\n",
              "      <th>user_id</th>\n",
              "      <th>business_id</th>\n",
              "      <th>rating</th>\n",
              "      <th>date</th>\n",
              "      <th>text</th>\n",
              "      <th>hour</th>\n",
              "    </tr>\n",
              "  </thead>\n",
              "  <tbody>\n",
              "    <tr>\n",
              "      <th>403</th>\n",
              "      <td>1</td>\n",
              "      <td>16012</td>\n",
              "      <td>4.0</td>\n",
              "      <td>2018-09-30 18:00:41</td>\n",
              "      <td>First time for me to come inside at least! Hav...</td>\n",
              "      <td>18</td>\n",
              "    </tr>\n",
              "    <tr>\n",
              "      <th>737</th>\n",
              "      <td>2</td>\n",
              "      <td>4847</td>\n",
              "      <td>3.0</td>\n",
              "      <td>2014-08-01 01:55:23</td>\n",
              "      <td>I can only comment on their macarons, which I'...</td>\n",
              "      <td>1</td>\n",
              "    </tr>\n",
              "    <tr>\n",
              "      <th>797</th>\n",
              "      <td>3</td>\n",
              "      <td>36986</td>\n",
              "      <td>5.0</td>\n",
              "      <td>2018-10-18 05:39:38</td>\n",
              "      <td>Very good. Probably one of the best restaurant...</td>\n",
              "      <td>5</td>\n",
              "    </tr>\n",
              "    <tr>\n",
              "      <th>851</th>\n",
              "      <td>4</td>\n",
              "      <td>10745</td>\n",
              "      <td>5.0</td>\n",
              "      <td>2018-10-07 01:33:10</td>\n",
              "      <td>As someone with a big sweet tooth, this review...</td>\n",
              "      <td>1</td>\n",
              "    </tr>\n",
              "    <tr>\n",
              "      <th>854</th>\n",
              "      <td>5</td>\n",
              "      <td>23359</td>\n",
              "      <td>2.0</td>\n",
              "      <td>2017-10-28 17:56:07</td>\n",
              "      <td>This place had the best customer service I've ...</td>\n",
              "      <td>17</td>\n",
              "    </tr>\n",
              "  </tbody>\n",
              "</table>\n",
              "</div>"
            ],
            "text/plain": [
              "     user_id  ...  hour\n",
              "403        1  ...    18\n",
              "737        2  ...     1\n",
              "797        3  ...     5\n",
              "851        4  ...     1\n",
              "854        5  ...    17\n",
              "\n",
              "[5 rows x 6 columns]"
            ]
          },
          "metadata": {
            "tags": []
          },
          "execution_count": 249
        }
      ]
    },
    {
      "cell_type": "code",
      "metadata": {
        "id": "NLzYxZ1r-8ZK",
        "colab_type": "code",
        "colab": {}
      },
      "source": [
        "# 1.Label Encoding for sparse features,and do simple Transformation for dense features\n",
        "sparse_features = [\"user_id\", \"business_id\", \"hour\"]\n",
        "target = ['rating']\n",
        "for feat in sparse_features:\n",
        "  lbe = LabelEncoder()\n",
        "  training[feat] = lbe.fit_transform(training[feat])\n",
        "  validation[feat] = lbe.transform(validation[feat])\n",
        "  test[feat] = lbe.transform(test[feat])"
      ],
      "execution_count": 0,
      "outputs": []
    },
    {
      "cell_type": "code",
      "metadata": {
        "id": "QRFe-Aw_-8b-",
        "colab_type": "code",
        "colab": {}
      },
      "source": [
        "# 2.count #unique features for each sparse field\n",
        "fixlen_feature_columns = [SparseFeat(feat, training[feat].nunique(), embedding_dim = 8) for feat in sparse_features]\n",
        "linear_feature_columns = fixlen_feature_columns\n",
        "dnn_feature_columns = fixlen_feature_columns\n",
        "feature_names = get_feature_names(linear_feature_columns + dnn_feature_columns)"
      ],
      "execution_count": 0,
      "outputs": []
    },
    {
      "cell_type": "code",
      "metadata": {
        "id": "y0krC2SelxhM",
        "colab_type": "code",
        "colab": {}
      },
      "source": [
        "train_model_input = {name:training[name].values for name in feature_names}\n",
        "valid_model_input = {name:validation[name].values for name in feature_names}\n",
        "test_model_input = {name:test[name].values for name in feature_names}"
      ],
      "execution_count": 0,
      "outputs": []
    },
    {
      "cell_type": "code",
      "metadata": {
        "id": "7Y9GNcPm-8mU",
        "colab_type": "code",
        "colab": {}
      },
      "source": [
        "# 4.Define Model,train,predict and evaluate\n",
        "model = NFM(linear_feature_columns, dnn_feature_columns, task='regression', dnn_hidden_units = (128, 128), dnn_dropout = 0.3, l2_reg_embedding=1e-05, l2_reg_dnn=1e-05, l2_reg_linear=1e-05)"
      ],
      "execution_count": 0,
      "outputs": []
    },
    {
      "cell_type": "code",
      "metadata": {
        "id": "wwDdMbol-8pY",
        "colab_type": "code",
        "colab": {}
      },
      "source": [
        "model.compile(\"adam\", \"mse\", metrics=['mse'], )"
      ],
      "execution_count": 0,
      "outputs": []
    },
    {
      "cell_type": "code",
      "metadata": {
        "id": "vg_2Mk2j-8j-",
        "colab_type": "code",
        "outputId": "f07c8e69-065b-4f70-b74b-4fe5fa116309",
        "colab": {
          "base_uri": "https://localhost:8080/",
          "height": 462
        }
      },
      "source": [
        "history = model.fit(train_model_input, training[target].values, batch_size=256, epochs=10, verbose=2, validation_data= (valid_model_input, validation[target].values))"
      ],
      "execution_count": 0,
      "outputs": [
        {
          "output_type": "stream",
          "text": [
            "Train on 406042 samples, validate on 25174 samples\n",
            "Epoch 1/10\n"
          ],
          "name": "stdout"
        },
        {
          "output_type": "stream",
          "text": [
            "/usr/local/lib/python3.6/dist-packages/tensorflow_core/python/framework/indexed_slices.py:424: UserWarning: Converting sparse IndexedSlices to a dense Tensor of unknown shape. This may consume a large amount of memory.\n",
            "  \"Converting sparse IndexedSlices to a dense Tensor of unknown shape. \"\n",
            "/usr/local/lib/python3.6/dist-packages/tensorflow_core/python/framework/indexed_slices.py:424: UserWarning: Converting sparse IndexedSlices to a dense Tensor of unknown shape. This may consume a large amount of memory.\n",
            "  \"Converting sparse IndexedSlices to a dense Tensor of unknown shape. \"\n"
          ],
          "name": "stderr"
        },
        {
          "output_type": "stream",
          "text": [
            "406042/406042 - 30s - loss: 1.9493 - mse: 1.9412 - val_loss: 1.7994 - val_mse: 1.7827\n",
            "Epoch 2/10\n",
            "406042/406042 - 29s - loss: 1.2845 - mse: 1.2568 - val_loss: 1.8162 - val_mse: 1.7786\n",
            "Epoch 3/10\n",
            "406042/406042 - 28s - loss: 0.9721 - mse: 0.9267 - val_loss: 1.9982 - val_mse: 1.9452\n",
            "Epoch 4/10\n",
            "406042/406042 - 28s - loss: 0.7268 - mse: 0.6708 - val_loss: 2.1509 - val_mse: 2.0906\n",
            "Epoch 5/10\n",
            "406042/406042 - 28s - loss: 0.6206 - mse: 0.5590 - val_loss: 2.2590 - val_mse: 2.1942\n",
            "Epoch 6/10\n",
            "406042/406042 - 28s - loss: 0.5683 - mse: 0.5027 - val_loss: 2.3703 - val_mse: 2.3021\n",
            "Epoch 7/10\n",
            "406042/406042 - 29s - loss: 0.5360 - mse: 0.4673 - val_loss: 2.4009 - val_mse: 2.3296\n",
            "Epoch 8/10\n",
            "406042/406042 - 28s - loss: 0.5120 - mse: 0.4405 - val_loss: 2.4647 - val_mse: 2.3910\n",
            "Epoch 9/10\n",
            "406042/406042 - 28s - loss: 0.4941 - mse: 0.4202 - val_loss: 2.5188 - val_mse: 2.4428\n",
            "Epoch 10/10\n",
            "406042/406042 - 29s - loss: 0.4807 - mse: 0.4046 - val_loss: 2.5270 - val_mse: 2.4490\n"
          ],
          "name": "stdout"
        }
      ]
    },
    {
      "cell_type": "code",
      "metadata": {
        "id": "bLv8sy3H-8fj",
        "colab_type": "code",
        "colab": {}
      },
      "source": [
        "pred_ans = model.predict(test_model_input, batch_size=256)"
      ],
      "execution_count": 0,
      "outputs": []
    },
    {
      "cell_type": "code",
      "metadata": {
        "id": "nu42ZS3I-8W1",
        "colab_type": "code",
        "outputId": "b16a2ca1-c061-4d65-a05b-141c4c6b71fc",
        "colab": {
          "base_uri": "https://localhost:8080/",
          "height": 34
        }
      },
      "source": [
        "print(\"test MSE\", round(mean_squared_error(\n",
        "        test[target].values, pred_ans), 4))"
      ],
      "execution_count": 0,
      "outputs": [
        {
          "output_type": "stream",
          "text": [
            "test MSE 2.5012\n"
          ],
          "name": "stdout"
        }
      ]
    },
    {
      "cell_type": "code",
      "metadata": {
        "id": "gjsxTysR-8SK",
        "colab_type": "code",
        "outputId": "ecddfb9b-c253-43c4-fa30-56ebb807678b",
        "colab": {
          "base_uri": "https://localhost:8080/",
          "height": 136
        }
      },
      "source": [
        "pred_ans"
      ],
      "execution_count": 0,
      "outputs": [
        {
          "output_type": "execute_result",
          "data": {
            "text/plain": [
              "array([[3.9471264],\n",
              "       [3.6658187],\n",
              "       [2.7839057],\n",
              "       ...,\n",
              "       [4.43822  ],\n",
              "       [2.2483878],\n",
              "       [4.1733575]], dtype=float32)"
            ]
          },
          "metadata": {
            "tags": []
          },
          "execution_count": 266
        }
      ]
    },
    {
      "cell_type": "code",
      "metadata": {
        "id": "wSMFUm7o-8Ne",
        "colab_type": "code",
        "outputId": "e2e1c4fc-71a3-4df2-ec02-84ca44ec1b24",
        "colab": {
          "base_uri": "https://localhost:8080/",
          "height": 34
        }
      },
      "source": [
        "(test[target].values<2).sum(), (test[target].values<3).sum(), (test[target].values<4).sum()"
      ],
      "execution_count": 0,
      "outputs": [
        {
          "output_type": "execute_result",
          "data": {
            "text/plain": [
              "(3687, 5672, 8015)"
            ]
          },
          "metadata": {
            "tags": []
          },
          "execution_count": 267
        }
      ]
    },
    {
      "cell_type": "code",
      "metadata": {
        "id": "bNFI7E7SnyoH",
        "colab_type": "code",
        "outputId": "4d553d41-d72e-497b-cc30-89ae46bf3d0e",
        "colab": {
          "base_uri": "https://localhost:8080/",
          "height": 34
        }
      },
      "source": [
        "(pred_ans<2).sum(),(pred_ans<3).sum(), (pred_ans<4).sum() "
      ],
      "execution_count": 0,
      "outputs": [
        {
          "output_type": "execute_result",
          "data": {
            "text/plain": [
              "(2246, 6599, 14234)"
            ]
          },
          "metadata": {
            "tags": []
          },
          "execution_count": 268
        }
      ]
    },
    {
      "cell_type": "code",
      "metadata": {
        "id": "3gxa_XCvQHPO",
        "colab_type": "code",
        "colab": {}
      },
      "source": [
        ""
      ],
      "execution_count": 0,
      "outputs": []
    }
  ]
}